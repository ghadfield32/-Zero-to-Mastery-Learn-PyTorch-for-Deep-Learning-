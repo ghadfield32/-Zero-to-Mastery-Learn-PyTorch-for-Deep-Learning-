{
  "nbformat": 4,
  "nbformat_minor": 0,
  "metadata": {
    "accelerator": "GPU",
    "colab": {
      "name": "torchvision_finetuning_instance_segmentation.ipynb",
      "provenance": []
    },
    "kernelspec": {
      "display_name": "Python 3",
      "language": "python",
      "name": "python3"
    },
    "language_info": {
      "codemirror_mode": {
        "name": "ipython",
        "version": 3
      },
      "file_extension": ".py",
      "mimetype": "text/x-python",
      "name": "python",
      "nbconvert_exporter": "python",
      "pygments_lexer": "ipython3",
      "version": "3.6.4"
    }
  },
  "cells": [
    {
      "cell_type": "code",
      "execution_count": 1,
      "metadata": {
        "id": "UV7Q7714no-Z"
      },
      "outputs": [],
      "source": [
        "# For tips on running notebooks in Google Colab, see\n",
        "# https://pytorch.org/tutorials/beginner/colab\n",
        "%matplotlib inline"
      ]
    },
    {
      "cell_type": "code",
      "source": [
        "!wget https://www.cis.upenn.edu/~jshi/ped_html/PennFudanPed.zip\n"
      ],
      "metadata": {
        "id": "9GJtCNnCqd7G"
      },
      "execution_count": null,
      "outputs": []
    },
    {
      "cell_type": "code",
      "source": [
        "import zipfile\n",
        "with zipfile.ZipFile(\"PennFudanPed.zip\", 'r') as zip_ref:\n",
        "    zip_ref.extractall(\"data\")\n"
      ],
      "metadata": {
        "id": "AU2OwIi6qc4o"
      },
      "execution_count": 14,
      "outputs": []
    },
    {
      "cell_type": "markdown",
      "metadata": {
        "id": "zYcz4qmRno-d"
      },
      "source": [
        "\n",
        "# TorchVision Object Detection Finetuning Tutorial\n"
      ]
    },
    {
      "cell_type": "markdown",
      "metadata": {
        "id": "l9IYIAHrno-f"
      },
      "source": [
        ".. tip::\n",
        "\n",
        "    To get the most of this tutorial, we suggest using this\n",
        "    [Colab Version](https://colab.research.google.com/github/pytorch/tutorials/blob/gh-pages/_downloads/torchvision_finetuning_instance_segmentation.ipynb)_.\n",
        "    This will allow you to experiment with the information presented below.\n",
        "\n",
        "\n",
        "For this tutorial, we will be finetuning a pre-trained [Mask\n",
        "R-CNN](https://arxiv.org/abs/1703.06870)_ model on the [Penn-Fudan\n",
        "Database for Pedestrian Detection and\n",
        "Segmentation](https://www.cis.upenn.edu/~jshi/ped_html/)_. It contains\n",
        "170 images with 345 instances of pedestrians, and we will use it to\n",
        "illustrate how to use the new features in torchvision in order to train\n",
        "an object detection and instance segmentation model on a custom dataset.\n",
        "\n",
        "\n",
        ".. note ::\n",
        "\n",
        "    This tutorial works only with torchvision version >=0.16 or nightly.\n",
        "    If you're using torchvision<=0.15, please follow\n",
        "    [this tutorial instead](https://github.com/pytorch/tutorials/blob/d686b662932a380a58b7683425faa00c06bcf502/intermediate_source/torchvision_tutorial.rst).\n",
        "\n",
        "\n",
        "## Defining the Dataset\n",
        "\n",
        "The reference scripts for training object detection, instance\n",
        "segmentation and person keypoint detection allows for easily supporting\n",
        "adding new custom datasets. The dataset should inherit from the standard\n",
        "``torch.utils.data.Dataset`` class, and implement ``__len__`` and\n",
        "``__getitem__``.\n",
        "\n",
        "The only specificity that we require is that the dataset ``__getitem__``\n",
        "should return a tuple:\n",
        "\n",
        "-  image: :class:`torchvision.tv_tensors.Image` of shape ``[3, H, W]``, a pure tensor, or a PIL Image of size ``(H, W)``\n",
        "-  target: a dict containing the following fields\n",
        "\n",
        "   -  ``boxes``, :class:`torchvision.tv_tensors.BoundingBoxes` of shape ``[N, 4]``:\n",
        "      the coordinates of the ``N`` bounding boxes in ``[x0, y0, x1, y1]`` format, ranging from ``0``\n",
        "      to ``W`` and ``0`` to ``H``\n",
        "   -  ``labels``, integer :class:`torch.Tensor` of shape ``[N]``: the label for each bounding box.\n",
        "      ``0`` represents always the background class.\n",
        "   -  ``image_id``, int: an image identifier. It should be\n",
        "      unique between all the images in the dataset, and is used during\n",
        "      evaluation\n",
        "   -  ``area``, float :class:`torch.Tensor` of shape ``[N]``: the area of the bounding box. This is used\n",
        "      during evaluation with the COCO metric, to separate the metric\n",
        "      scores between small, medium and large boxes.\n",
        "   -  ``iscrowd``, uint8 :class:`torch.Tensor` of shape ``[N]``: instances with ``iscrowd=True`` will be\n",
        "      ignored during evaluation.\n",
        "   -  (optionally) ``masks``, :class:`torchvision.tv_tensors.Mask` of shape ``[N, H, W]``: the segmentation\n",
        "      masks for each one of the objects\n",
        "\n",
        "If your dataset is compliant with above requirements then it will work for both\n",
        "training and evaluation codes from the reference script. Evaluation code will use scripts from\n",
        "``pycocotools`` which can be installed with ``pip install pycocotools``.\n",
        "\n",
        ".. note ::\n",
        "  For Windows, please install ``pycocotools`` from [gautamchitnis](https://github.com/gautamchitnis/cocoapi)_ with command\n",
        "\n",
        "  ``pip install git+https://github.com/gautamchitnis/cocoapi.git@cocodataset-master#subdirectory=PythonAPI``\n",
        "\n",
        "One note on the ``labels``. The model considers class ``0`` as background. If your dataset does not contain the background class,\n",
        "you should not have ``0`` in your ``labels``. For example, assuming you have just two classes, *cat* and *dog*, you can\n",
        "define ``1`` (not ``0``) to represent *cats* and ``2`` to represent *dogs*. So, for instance, if one of the images has both\n",
        "classes, your ``labels`` tensor should look like ``[1, 2]``.\n",
        "\n",
        "Additionally, if you want to use aspect ratio grouping during training\n",
        "(so that each batch only contains images with similar aspect ratios),\n",
        "then it is recommended to also implement a ``get_height_and_width``\n",
        "method, which returns the height and the width of the image. If this\n",
        "method is not provided, we query all elements of the dataset via\n",
        "``__getitem__`` , which loads the image in memory and is slower than if\n",
        "a custom method is provided.\n",
        "\n",
        "### Writing a custom dataset for PennFudan\n",
        "\n",
        "Let’s write a dataset for the PennFudan dataset. After [downloading and\n",
        "extracting the zip\n",
        "file](https://www.cis.upenn.edu/~jshi/ped_html/PennFudanPed.zip)_, we\n",
        "have the following folder structure:\n",
        "\n",
        "::\n",
        "\n",
        "   PennFudanPed/\n",
        "     PedMasks/\n",
        "       FudanPed00001_mask.png\n",
        "       FudanPed00002_mask.png\n",
        "       FudanPed00003_mask.png\n",
        "       FudanPed00004_mask.png\n",
        "       ...\n",
        "     PNGImages/\n",
        "       FudanPed00001.png\n",
        "       FudanPed00002.png\n",
        "       FudanPed00003.png\n",
        "       FudanPed00004.png\n",
        "\n",
        "Here is one example of a pair of images and segmentation masks\n",
        "\n",
        "<img src=\"file://../../_static/img/tv_tutorial/tv_image01.png\">\n",
        "\n",
        "<img src=\"file://../../_static/img/tv_tutorial/tv_image02.png\">\n",
        "\n",
        "So each image has a corresponding\n",
        "segmentation mask, where each color correspond to a different instance.\n",
        "Let’s write a :class:`torch.utils.data.Dataset` class for this dataset.\n",
        "In the code below, we are wrapping images, bounding boxes and masks into\n",
        "``torchvision.TVTensor`` classes so that we will be able to apply torchvision\n",
        "built-in transformations ([new Transforms API](https://pytorch.org/vision/stable/transforms.html))\n",
        "for the given object detection and segmentation task.\n",
        "Namely, image tensors will be wrapped by :class:`torchvision.tv_tensors.Image`, bounding boxes into\n",
        ":class:`torchvision.tv_tensors.BoundingBoxes` and masks into :class:`torchvision.tv_tensors.Mask`.\n",
        "As ``torchvision.TVTensor`` are :class:`torch.Tensor` subclasses, wrapped objects are also tensors and inherit the plain\n",
        ":class:`torch.Tensor` API. For more information about torchvision ``tv_tensors`` see\n",
        "[this documentation](https://pytorch.org/vision/main/auto_examples/transforms/plot_transforms_getting_started.html#what-are-tvtensors).\n",
        "\n"
      ]
    },
    {
      "cell_type": "code",
      "execution_count": 15,
      "metadata": {
        "id": "gtNHhqJwno-i"
      },
      "outputs": [],
      "source": [
        "import os\n",
        "import torch\n",
        "\n",
        "from torchvision.io import read_image\n",
        "from torchvision.ops.boxes import masks_to_boxes\n",
        "from torchvision import tv_tensors\n",
        "from torchvision.transforms.v2 import functional as F\n",
        "\n",
        "\n",
        "class PennFudanDataset(torch.utils.data.Dataset):\n",
        "    def __init__(self, root, transforms):\n",
        "        self.root = root\n",
        "        self.transforms = transforms\n",
        "        # load all image files, sorting them to\n",
        "        # ensure that they are aligned\n",
        "        self.imgs = list(sorted(os.listdir(os.path.join(root, \"PNGImages\"))))\n",
        "        self.masks = list(sorted(os.listdir(os.path.join(root, \"PedMasks\"))))\n",
        "\n",
        "    def __getitem__(self, idx):\n",
        "        # load images and masks\n",
        "        img_path = os.path.join(self.root, \"PNGImages\", self.imgs[idx])\n",
        "        mask_path = os.path.join(self.root, \"PedMasks\", self.masks[idx])\n",
        "        img = read_image(img_path)\n",
        "        mask = read_image(mask_path)\n",
        "        # instances are encoded as different colors\n",
        "        obj_ids = torch.unique(mask)\n",
        "        # first id is the background, so remove it\n",
        "        obj_ids = obj_ids[1:]\n",
        "        num_objs = len(obj_ids)\n",
        "\n",
        "        # split the color-encoded mask into a set\n",
        "        # of binary masks\n",
        "        masks = (mask == obj_ids[:, None, None]).to(dtype=torch.uint8)\n",
        "\n",
        "        # get bounding box coordinates for each mask\n",
        "        boxes = masks_to_boxes(masks)\n",
        "\n",
        "        # there is only one class\n",
        "        labels = torch.ones((num_objs,), dtype=torch.int64)\n",
        "\n",
        "        image_id = idx\n",
        "        area = (boxes[:, 3] - boxes[:, 1]) * (boxes[:, 2] - boxes[:, 0])\n",
        "        # suppose all instances are not crowd\n",
        "        iscrowd = torch.zeros((num_objs,), dtype=torch.int64)\n",
        "\n",
        "        # Wrap sample and targets into torchvision tv_tensors:\n",
        "        img = tv_tensors.Image(img)\n",
        "\n",
        "        target = {}\n",
        "        target[\"boxes\"] = tv_tensors.BoundingBoxes(boxes, format=\"XYXY\", canvas_size=F.get_size(img))\n",
        "        target[\"masks\"] = tv_tensors.Mask(masks)\n",
        "        target[\"labels\"] = labels\n",
        "        target[\"image_id\"] = image_id\n",
        "        target[\"area\"] = area\n",
        "        target[\"iscrowd\"] = iscrowd\n",
        "\n",
        "        if self.transforms is not None:\n",
        "            img, target = self.transforms(img, target)\n",
        "\n",
        "        return img, target\n",
        "\n",
        "    def __len__(self):\n",
        "        return len(self.imgs)"
      ]
    },
    {
      "cell_type": "markdown",
      "metadata": {
        "id": "iFoEvDA4no-k"
      },
      "source": [
        "That’s all for the dataset. Now let’s define a model that can perform\n",
        "predictions on this dataset.\n",
        "\n",
        "## Defining your model\n",
        "\n",
        "In this tutorial, we will be using [Mask\n",
        "R-CNN](https://arxiv.org/abs/1703.06870)_, which is based on top of\n",
        "[Faster R-CNN](https://arxiv.org/abs/1506.01497)_. Faster R-CNN is a\n",
        "model that predicts both bounding boxes and class scores for potential\n",
        "objects in the image.\n",
        "\n",
        "<img src=\"file://../../_static/img/tv_tutorial/tv_image03.png\">\n",
        "\n",
        "Mask R-CNN adds an extra branch\n",
        "into Faster R-CNN, which also predicts segmentation masks for each\n",
        "instance.\n",
        "\n",
        "<img src=\"file://../../_static/img/tv_tutorial/tv_image04.png\">\n",
        "\n",
        "There are two common\n",
        "situations where one might want\n",
        "to modify one of the available models in TorchVision Model Zoo. The first\n",
        "is when we want to start from a pre-trained model, and just finetune the\n",
        "last layer. The other is when we want to replace the backbone of the\n",
        "model with a different one (for faster predictions, for example).\n",
        "\n",
        "Let’s go see how we would do one or another in the following sections.\n",
        "\n",
        "### 1 - Finetuning from a pretrained model\n",
        "\n",
        "Let’s suppose that you want to start from a model pre-trained on COCO\n",
        "and want to finetune it for your particular classes. Here is a possible\n",
        "way of doing it:\n",
        "\n"
      ]
    },
    {
      "cell_type": "code",
      "execution_count": 16,
      "metadata": {
        "id": "ElxTJzO0no-k"
      },
      "outputs": [],
      "source": [
        "import torchvision\n",
        "from torchvision.models.detection.faster_rcnn import FastRCNNPredictor\n",
        "\n",
        "# load a model pre-trained on COCO\n",
        "model = torchvision.models.detection.fasterrcnn_resnet50_fpn(weights=\"DEFAULT\")\n",
        "\n",
        "# replace the classifier with a new one, that has\n",
        "# num_classes which is user-defined\n",
        "num_classes = 2  # 1 class (person) + background\n",
        "# get number of input features for the classifier\n",
        "in_features = model.roi_heads.box_predictor.cls_score.in_features\n",
        "# replace the pre-trained head with a new one\n",
        "model.roi_heads.box_predictor = FastRCNNPredictor(in_features, num_classes)"
      ]
    },
    {
      "cell_type": "markdown",
      "metadata": {
        "id": "6e6sNULcno-m"
      },
      "source": [
        "### 2 - Modifying the model to add a different backbone\n",
        "\n"
      ]
    },
    {
      "cell_type": "code",
      "execution_count": 17,
      "metadata": {
        "id": "LJwpTM0uno-n"
      },
      "outputs": [],
      "source": [
        "import torchvision\n",
        "from torchvision.models.detection import FasterRCNN\n",
        "from torchvision.models.detection.rpn import AnchorGenerator\n",
        "\n",
        "# load a pre-trained model for classification and return\n",
        "# only the features\n",
        "backbone = torchvision.models.mobilenet_v2(weights=\"DEFAULT\").features\n",
        "# ``FasterRCNN`` needs to know the number of\n",
        "# output channels in a backbone. For mobilenet_v2, it's 1280\n",
        "# so we need to add it here\n",
        "backbone.out_channels = 1280\n",
        "\n",
        "# let's make the RPN generate 5 x 3 anchors per spatial\n",
        "# location, with 5 different sizes and 3 different aspect\n",
        "# ratios. We have a Tuple[Tuple[int]] because each feature\n",
        "# map could potentially have different sizes and\n",
        "# aspect ratios\n",
        "anchor_generator = AnchorGenerator(\n",
        "    sizes=((32, 64, 128, 256, 512),),\n",
        "    aspect_ratios=((0.5, 1.0, 2.0),)\n",
        ")\n",
        "\n",
        "# let's define what are the feature maps that we will\n",
        "# use to perform the region of interest cropping, as well as\n",
        "# the size of the crop after rescaling.\n",
        "# if your backbone returns a Tensor, featmap_names is expected to\n",
        "# be [0]. More generally, the backbone should return an\n",
        "# ``OrderedDict[Tensor]``, and in ``featmap_names`` you can choose which\n",
        "# feature maps to use.\n",
        "roi_pooler = torchvision.ops.MultiScaleRoIAlign(\n",
        "    featmap_names=['0'],\n",
        "    output_size=7,\n",
        "    sampling_ratio=2\n",
        ")\n",
        "\n",
        "# put the pieces together inside a Faster-RCNN model\n",
        "model = FasterRCNN(\n",
        "    backbone,\n",
        "    num_classes=2,\n",
        "    rpn_anchor_generator=anchor_generator,\n",
        "    box_roi_pool=roi_pooler\n",
        ")"
      ]
    },
    {
      "cell_type": "markdown",
      "metadata": {
        "id": "IZVQhJPJno-o"
      },
      "source": [
        "### Object detection and instance segmentation model for PennFudan Dataset\n",
        "\n",
        "In our case, we want to finetune from a pre-trained model, given that\n",
        "our dataset is very small, so we will be following approach number 1.\n",
        "\n",
        "Here we want to also compute the instance segmentation masks, so we will\n",
        "be using Mask R-CNN:\n",
        "\n"
      ]
    },
    {
      "cell_type": "code",
      "execution_count": 18,
      "metadata": {
        "id": "Q58flEzSno-q"
      },
      "outputs": [],
      "source": [
        "import torchvision\n",
        "from torchvision.models.detection.faster_rcnn import FastRCNNPredictor\n",
        "from torchvision.models.detection.mask_rcnn import MaskRCNNPredictor\n",
        "\n",
        "\n",
        "def get_model_instance_segmentation(num_classes):\n",
        "    # load an instance segmentation model pre-trained on COCO\n",
        "    model = torchvision.models.detection.maskrcnn_resnet50_fpn(weights=\"DEFAULT\")\n",
        "\n",
        "    # get number of input features for the classifier\n",
        "    in_features = model.roi_heads.box_predictor.cls_score.in_features\n",
        "    # replace the pre-trained head with a new one\n",
        "    model.roi_heads.box_predictor = FastRCNNPredictor(in_features, num_classes)\n",
        "\n",
        "    # now get the number of input features for the mask classifier\n",
        "    in_features_mask = model.roi_heads.mask_predictor.conv5_mask.in_channels\n",
        "    hidden_layer = 256\n",
        "    # and replace the mask predictor with a new one\n",
        "    model.roi_heads.mask_predictor = MaskRCNNPredictor(\n",
        "        in_features_mask,\n",
        "        hidden_layer,\n",
        "        num_classes\n",
        "    )\n",
        "\n",
        "    return model"
      ]
    },
    {
      "cell_type": "markdown",
      "metadata": {
        "id": "ABGe4TPbno-r"
      },
      "source": [
        "That’s it, this will make ``model`` be ready to be trained and evaluated\n",
        "on your custom dataset.\n",
        "\n",
        "## Putting everything together\n",
        "\n",
        "In ``references/detection/``, we have a number of helper functions to\n",
        "simplify training and evaluating detection models. Here, we will use\n",
        "``references/detection/engine.py`` and ``references/detection/utils.py``.\n",
        "Just download everything under ``references/detection`` to your folder and use them here.\n",
        "On Linux if you have ``wget``, you can download them using below commands:\n",
        "\n"
      ]
    },
    {
      "cell_type": "code",
      "execution_count": 19,
      "metadata": {
        "id": "5mxS9sblno-s",
        "outputId": "d49121cf-52ba-484a-982b-aeaff8506264",
        "colab": {
          "base_uri": "https://localhost:8080/"
        }
      },
      "outputs": [
        {
          "output_type": "stream",
          "name": "stderr",
          "text": [
            "/usr/local/lib/python3.10/dist-packages/torch/utils/data/dataloader.py:557: UserWarning: This DataLoader will create 4 worker processes in total. Our suggested max number of worker in current system is 2, which is smaller than what this DataLoader is going to create. Please be aware that excessive worker creation might get DataLoader running slow or even freeze, lower the worker number to avoid potential slowness/freeze if necessary.\n",
            "  warnings.warn(_create_warning_msg(\n"
          ]
        },
        {
          "output_type": "stream",
          "name": "stdout",
          "text": [
            "{'loss_classifier': tensor(0.2224, grad_fn=<NllLossBackward0>), 'loss_box_reg': tensor(0.1134, grad_fn=<DivBackward0>), 'loss_objectness': tensor(0.0441, grad_fn=<BinaryCrossEntropyWithLogitsBackward0>), 'loss_rpn_box_reg': tensor(0.0082, grad_fn=<DivBackward0>)}\n",
            "{'boxes': tensor([], size=(0, 4), grad_fn=<StackBackward0>), 'labels': tensor([], dtype=torch.int64), 'scores': tensor([], grad_fn=<IndexBackward0>)}\n"
          ]
        }
      ],
      "source": [
        "os.system(\"wget https://raw.githubusercontent.com/pytorch/vision/main/references/detection/engine.py\")\n",
        "os.system(\"wget https://raw.githubusercontent.com/pytorch/vision/main/references/detection/utils.py\")\n",
        "os.system(\"wget https://raw.githubusercontent.com/pytorch/vision/main/references/detection/coco_utils.py\")\n",
        "os.system(\"wget https://raw.githubusercontent.com/pytorch/vision/main/references/detection/coco_eval.py\")\n",
        "os.system(\"wget https://raw.githubusercontent.com/pytorch/vision/main/references/detection/transforms.py\")\n",
        "\n",
        "# Since v0.15.0 torchvision provides `new Transforms API <https://pytorch.org/vision/stable/transforms.html>`_\n",
        "# to easily write data augmentation pipelines for Object Detection and Segmentation tasks.\n",
        "#\n",
        "# Let’s write some helper functions for data augmentation /\n",
        "# transformation:\n",
        "\n",
        "from torchvision.transforms import v2 as T\n",
        "\n",
        "\n",
        "def get_transform(train):\n",
        "    transforms = []\n",
        "    if train:\n",
        "        transforms.append(T.RandomHorizontalFlip(0.5))\n",
        "    transforms.append(T.ToDtype(torch.float, scale=True))\n",
        "    transforms.append(T.ToPureTensor())\n",
        "    return T.Compose(transforms)\n",
        "\n",
        "\n",
        "# Testing ``forward()`` method (Optional)\n",
        "# ---------------------------------------\n",
        "#\n",
        "# Before iterating over the dataset, it's good to see what the model\n",
        "# expects during training and inference time on sample data.\n",
        "import utils\n",
        "\n",
        "\n",
        "model = torchvision.models.detection.fasterrcnn_resnet50_fpn(weights=\"DEFAULT\")\n",
        "dataset = PennFudanDataset('data/PennFudanPed', get_transform(train=True))\n",
        "data_loader = torch.utils.data.DataLoader(\n",
        "    dataset,\n",
        "    batch_size=2,\n",
        "    shuffle=True,\n",
        "    num_workers=4,\n",
        "    collate_fn=utils.collate_fn\n",
        ")\n",
        "\n",
        "# For Training\n",
        "images, targets = next(iter(data_loader))\n",
        "images = list(image for image in images)\n",
        "targets = [{k: v for k, v in t.items()} for t in targets]\n",
        "output = model(images, targets)  # Returns losses and detections\n",
        "print(output)\n",
        "\n",
        "# For inference\n",
        "model.eval()\n",
        "x = [torch.rand(3, 300, 400), torch.rand(3, 500, 400)]\n",
        "predictions = model(x)  # Returns predictions\n",
        "print(predictions[0])"
      ]
    },
    {
      "cell_type": "markdown",
      "metadata": {
        "id": "n5MHn76Wno-t"
      },
      "source": [
        "Let’s now write the main function which performs the training and the\n",
        "validation:\n",
        "\n"
      ]
    },
    {
      "cell_type": "code",
      "execution_count": null,
      "metadata": {
        "id": "_Km8JfkNno-t",
        "outputId": "0adf307c-541d-40cf-a7cc-85c40c9ee580",
        "colab": {
          "base_uri": "https://localhost:8080/"
        }
      },
      "outputs": [
        {
          "output_type": "stream",
          "name": "stderr",
          "text": [
            "Downloading: \"https://download.pytorch.org/models/maskrcnn_resnet50_fpn_coco-bf2d0c1e.pth\" to /root/.cache/torch/hub/checkpoints/maskrcnn_resnet50_fpn_coco-bf2d0c1e.pth\n",
            "100%|██████████| 170M/170M [00:01<00:00, 160MB/s]\n"
          ]
        },
        {
          "output_type": "stream",
          "name": "stdout",
          "text": [
            "Epoch: [0]  [ 0/60]  eta: 0:03:47  lr: 0.000090  loss: 3.9985 (3.9985)  loss_classifier: 0.6871 (0.6871)  loss_box_reg: 0.2843 (0.2843)  loss_mask: 2.9856 (2.9856)  loss_objectness: 0.0344 (0.0344)  loss_rpn_box_reg: 0.0071 (0.0071)  time: 3.7919  data: 0.3016  max mem: 1930\n",
            "Epoch: [0]  [10/60]  eta: 0:00:42  lr: 0.000936  loss: 1.7220 (2.4534)  loss_classifier: 0.4323 (0.4305)  loss_box_reg: 0.2843 (0.3039)  loss_mask: 0.9734 (1.6964)  loss_objectness: 0.0124 (0.0170)  loss_rpn_box_reg: 0.0062 (0.0055)  time: 0.8580  data: 0.0392  max mem: 2773\n",
            "Epoch: [0]  [20/60]  eta: 0:00:28  lr: 0.001783  loss: 0.9340 (1.6382)  loss_classifier: 0.2142 (0.3048)  loss_box_reg: 0.2640 (0.2751)  loss_mask: 0.4023 (1.0326)  loss_objectness: 0.0123 (0.0191)  loss_rpn_box_reg: 0.0062 (0.0066)  time: 0.5565  data: 0.0109  max mem: 2773\n",
            "Epoch: [0]  [30/60]  eta: 0:00:19  lr: 0.002629  loss: 0.5612 (1.2779)  loss_classifier: 0.0891 (0.2319)  loss_box_reg: 0.1905 (0.2518)  loss_mask: 0.2448 (0.7705)  loss_objectness: 0.0112 (0.0174)  loss_rpn_box_reg: 0.0050 (0.0062)  time: 0.5269  data: 0.0086  max mem: 2773\n",
            "Epoch: [0]  [40/60]  eta: 0:00:12  lr: 0.003476  loss: 0.4783 (1.0812)  loss_classifier: 0.0605 (0.1908)  loss_box_reg: 0.1773 (0.2365)  loss_mask: 0.2099 (0.6335)  loss_objectness: 0.0040 (0.0143)  loss_rpn_box_reg: 0.0041 (0.0062)  time: 0.5342  data: 0.0096  max mem: 3409\n",
            "Epoch: [0]  [50/60]  eta: 0:00:06  lr: 0.004323  loss: 0.4583 (0.9499)  loss_classifier: 0.0487 (0.1636)  loss_box_reg: 0.1674 (0.2275)  loss_mask: 0.1692 (0.5401)  loss_objectness: 0.0031 (0.0124)  loss_rpn_box_reg: 0.0068 (0.0064)  time: 0.5606  data: 0.0096  max mem: 3409\n",
            "Epoch: [0]  [59/60]  eta: 0:00:00  lr: 0.005000  loss: 0.3477 (0.8502)  loss_classifier: 0.0451 (0.1442)  loss_box_reg: 0.1357 (0.2091)  loss_mask: 0.1475 (0.4801)  loss_objectness: 0.0023 (0.0108)  loss_rpn_box_reg: 0.0041 (0.0061)  time: 0.5468  data: 0.0086  max mem: 3409\n",
            "Epoch: [0] Total time: 0:00:36 (0.6027 s / it)\n",
            "creating index...\n",
            "index created!\n",
            "Test:  [ 0/50]  eta: 0:00:30  model_time: 0.2582 (0.2582)  evaluator_time: 0.0192 (0.0192)  time: 0.6053  data: 0.3259  max mem: 3409\n"
          ]
        }
      ],
      "source": [
        "from engine import train_one_epoch, evaluate\n",
        "\n",
        "# train on the GPU or on the CPU, if a GPU is not available\n",
        "device = torch.device('cuda') if torch.cuda.is_available() else torch.device('cpu')\n",
        "\n",
        "# our dataset has two classes only - background and person\n",
        "num_classes = 2\n",
        "# use our dataset and defined transformations\n",
        "dataset = PennFudanDataset('data/PennFudanPed', get_transform(train=True))\n",
        "dataset_test = PennFudanDataset('data/PennFudanPed', get_transform(train=False))\n",
        "\n",
        "# split the dataset in train and test set\n",
        "indices = torch.randperm(len(dataset)).tolist()\n",
        "dataset = torch.utils.data.Subset(dataset, indices[:-50])\n",
        "dataset_test = torch.utils.data.Subset(dataset_test, indices[-50:])\n",
        "\n",
        "# define training and validation data loaders\n",
        "data_loader = torch.utils.data.DataLoader(\n",
        "    dataset,\n",
        "    batch_size=2,\n",
        "    shuffle=True,\n",
        "    num_workers=4,\n",
        "    collate_fn=utils.collate_fn\n",
        ")\n",
        "\n",
        "data_loader_test = torch.utils.data.DataLoader(\n",
        "    dataset_test,\n",
        "    batch_size=1,\n",
        "    shuffle=False,\n",
        "    num_workers=4,\n",
        "    collate_fn=utils.collate_fn\n",
        ")\n",
        "\n",
        "# get the model using our helper function\n",
        "model = get_model_instance_segmentation(num_classes)\n",
        "\n",
        "# move model to the right device\n",
        "model.to(device)\n",
        "\n",
        "# construct an optimizer\n",
        "params = [p for p in model.parameters() if p.requires_grad]\n",
        "optimizer = torch.optim.SGD(\n",
        "    params,\n",
        "    lr=0.005,\n",
        "    momentum=0.9,\n",
        "    weight_decay=0.0005\n",
        ")\n",
        "\n",
        "# and a learning rate scheduler\n",
        "lr_scheduler = torch.optim.lr_scheduler.StepLR(\n",
        "    optimizer,\n",
        "    step_size=3,\n",
        "    gamma=0.1\n",
        ")\n",
        "\n",
        "# let's train it for 5 epochs\n",
        "num_epochs = 5\n",
        "\n",
        "for epoch in range(num_epochs):\n",
        "    # train for one epoch, printing every 10 iterations\n",
        "    train_one_epoch(model, optimizer, data_loader, device, epoch, print_freq=10)\n",
        "    # update the learning rate\n",
        "    lr_scheduler.step()\n",
        "    # evaluate on the test dataset\n",
        "    evaluate(model, data_loader_test, device=device)\n",
        "\n",
        "print(\"That's it!\")"
      ]
    },
    {
      "cell_type": "markdown",
      "metadata": {
        "id": "SsmAG-Sbno-u"
      },
      "source": [
        "So after one epoch of training, we obtain a COCO-style mAP > 50, and\n",
        "a mask mAP of 65.\n",
        "\n",
        "But what do the predictions look like? Let’s take one image in the\n",
        "dataset and verify\n",
        "\n",
        "<img src=\"file://../../_static/img/tv_tutorial/tv_image05.png\">\n",
        "\n",
        "\n"
      ]
    },
    {
      "cell_type": "code",
      "execution_count": null,
      "metadata": {
        "id": "D8mZlI64no-u"
      },
      "outputs": [],
      "source": [
        "import matplotlib.pyplot as plt\n",
        "\n",
        "from torchvision.utils import draw_bounding_boxes, draw_segmentation_masks\n",
        "\n",
        "\n",
        "image = read_image(\"../_static/img/tv_tutorial/tv_image05.png\")\n",
        "eval_transform = get_transform(train=False)\n",
        "\n",
        "model.eval()\n",
        "with torch.no_grad():\n",
        "    x = eval_transform(image)\n",
        "    # convert RGBA -> RGB and move to device\n",
        "    x = x[:3, ...].to(device)\n",
        "    predictions = model([x, ])\n",
        "    pred = predictions[0]\n",
        "\n",
        "\n",
        "image = (255.0 * (image - image.min()) / (image.max() - image.min())).to(torch.uint8)\n",
        "image = image[:3, ...]\n",
        "pred_labels = [f\"pedestrian: {score:.3f}\" for label, score in zip(pred[\"labels\"], pred[\"scores\"])]\n",
        "pred_boxes = pred[\"boxes\"].long()\n",
        "output_image = draw_bounding_boxes(image, pred_boxes, pred_labels, colors=\"red\")\n",
        "\n",
        "masks = (pred[\"masks\"] > 0.7).squeeze(1)\n",
        "output_image = draw_segmentation_masks(output_image, masks, alpha=0.5, colors=\"blue\")\n",
        "\n",
        "\n",
        "plt.figure(figsize=(12, 12))\n",
        "plt.imshow(output_image.permute(1, 2, 0))"
      ]
    },
    {
      "cell_type": "markdown",
      "metadata": {
        "id": "QjC16eBxno-v"
      },
      "source": [
        "The results look good!\n",
        "\n",
        "## Wrapping up\n",
        "\n",
        "In this tutorial, you have learned how to create your own training\n",
        "pipeline for object detection models on a custom dataset. For\n",
        "that, you wrote a ``torch.utils.data.Dataset`` class that returns the\n",
        "images and the ground truth boxes and segmentation masks. You also\n",
        "leveraged a Mask R-CNN model pre-trained on COCO train2017 in order to\n",
        "perform transfer learning on this new dataset.\n",
        "\n",
        "For a more complete example, which includes multi-machine / multi-GPU\n",
        "training, check ``references/detection/train.py``, which is present in\n",
        "the torchvision repository.\n",
        "\n",
        "You can download a full source file for this tutorial\n",
        "[here](https://pytorch.org/tutorials/_static/tv-training-code.py)_.\n"
      ]
    }
  ]
}